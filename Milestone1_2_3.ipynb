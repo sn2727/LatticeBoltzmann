{
 "cells": [
  {
   "cell_type": "code",
   "execution_count": 240,
   "metadata": {},
   "outputs": [],
   "source": [
    "import numpy as np\n",
    "import matplotlib.pyplot as plt\n",
    "from IPython import display\n",
    "from time import sleep"
   ]
  },
  {
   "cell_type": "code",
   "execution_count": 241,
   "metadata": {},
   "outputs": [],
   "source": [
    "# Parameters\n",
    "\n",
    "# Grid size in x and y directions \n",
    "Nx = 45\n",
    "Ny = 30\n",
    "\n",
    "# an initial average density used for initialization\n",
    "rhoInitial = 1\n",
    "\n",
    "# omega used for collision calculation to control the time needed to reach equilibrium state \n",
    "# equivalent to 1/tau\n",
    "# smaller omega --> slower collisions to reach eq --> high viscosity\n",
    "# larger omega --> faster collisions\n",
    "omega = 1\n",
    "\n",
    "# number of timesteps to simulate\n",
    "timesteps = 20   "
   ]
  },
  {
   "cell_type": "code",
   "execution_count": 242,
   "metadata": {},
   "outputs": [],
   "source": [
    "# we are modeling LB with 9 directions, setting index will be handy later \n",
    "NL = 9\n",
    "idxs = np.arange(NL)\n",
    "\n",
    "# velocity vectors, splitted into x and y vectors\n",
    "cxs = np.array([0, 0, 1, 1, 1, 0,-1,-1,-1])\n",
    "cys = np.array([0, 1, 1, 0,-1,-1,-1, 0, 1])\n",
    "\n",
    "# weights we use\n",
    "weights = np.array([4/9,1/9,1/36,1/9,1/36,1/9,1/36,1/9,1/36]) \n",
    "# weights should add up to one\n",
    "assert(np.sum(weights) == 1)"
   ]
  },
  {
   "cell_type": "code",
   "execution_count": 243,
   "metadata": {},
   "outputs": [
    {
     "data": {
      "text/plain": [
       "<Figure size 320x160 with 0 Axes>"
      ]
     },
     "metadata": {},
     "output_type": "display_data"
    }
   ],
   "source": [
    "\"\"\"\n",
    "F is the matrix used to calculate density and velocity field \n",
    "The first axis represents the y coordinate of the grid, the second represents the x coordinate (CARE: its (y,x) so the representation is more intuitive)\n",
    "Further the third axis represents the directions (degrees of freedom) we use, that means each lattice points has an array of 9 used for calculations later  \n",
    "\n",
    "[       x0         x1         x2\n",
    "  [ [ [0..8] ] [ [0..8] ] [ [0..8] ] ] y0\n",
    "  [ [ [0..8] ] [ [0..8] ] [ [0..8] ] ] y1\n",
    "  [ [ [0..8] ] [ [0..8] ] [ [0..8] ] ] y2\n",
    "]\n",
    "\n",
    "Example visualization of F\n",
    "\"\"\"\n",
    "\n",
    "# Initialization of F \n",
    "F = np.ones((Ny,Nx,NL))\n",
    "\n",
    "# Define to initialize F for shear wave decay by either sinusodial velocities or densities\n",
    "VELOCITY = False\n",
    "DENSITY = not VELOCITY\n",
    "epsilon = 0.1\n",
    "\n",
    "if DENSITY:\n",
    "  F = np.zeros((Ny,Nx,NL))\n",
    "  rho0 = 1\n",
    "  for x in range(Nx):\n",
    "    F[:,x,0] = rho0 + epsilon * np.sin(2*np.pi/Nx*x)\n",
    "\n",
    "\n",
    "if VELOCITY:\n",
    "  F = np.zeros((Ny,Nx,NL))\n",
    "  F[:,:,0] = np.ones((Ny,Nx))\n",
    "  for y in range(Ny):\n",
    "    F[y,:,1] = epsilon*np.sin(2*np.pi/Ny*y)\n",
    "\n",
    "\n",
    "# Calculation of analytical viscosity\n",
    "analyticalViscosity = (1/3)*((1/omega)-(1/2)) \n",
    "# used to measure viscosity\n",
    "q = []\n",
    "\n",
    "\n",
    "# calculates density for each lattice point over third axis of F \n",
    "# that means to sum up the 9 density values of each lattice point \n",
    "def calculateDensity(): \n",
    "  rho = np.sum(F,2)\n",
    "  return rho\n",
    "\n",
    "rho = calculateDensity()\n",
    "\n",
    "# calculates the velocity at each lattice point by doint the same calculation as for density but multiplied by our \n",
    "# velocity vectors and dividing by the density \n",
    "# returns tuple of array which hold x respectively y value for each lattice point \n",
    "def calculateVelocity():\n",
    "  ux  = np.sum(F*cxs,2) / rho\n",
    "  uy  = np.sum(F*cys,2) / rho\n",
    "  return (ux,uy)\n",
    "\n",
    "ux, uy = calculateVelocity()\n",
    "\n",
    "# mass of the fluid, can be used to verify mass conservation between timesteps\n",
    "def mass():\n",
    "  return np.sum(rho)\n",
    "\n",
    "# for i in idxs:\n",
    "#   F[:,:,i] *= rhoInitial / rho\n",
    "\n",
    "# Cylinder boundary\n",
    "# cylinder = (X - Nx/4)**2 + (Y - Ny/2)**2 < (Ny/4)**2\n",
    "\n",
    "# Prep figure\n",
    "fig = plt.figure(figsize=(4,2), dpi=80)\n",
    "\n",
    "xaxis = np.linspace(0, Nx, Nx)\n",
    "yaxis = np.linspace(0, Ny, Ny)\n",
    "X, Y = np.meshgrid(xaxis, yaxis)"
   ]
  },
  {
   "cell_type": "code",
   "execution_count": 244,
   "metadata": {},
   "outputs": [
    {
     "data": {
      "image/png": "[encoded data removed]",
      "text/plain": [
       "<Figure size 640x480 with 1 Axes>"
      ]
     },
     "metadata": {},
     "output_type": "display_data"
    },
    {
     "data": {
      "image/png": "[encoded data removed]",
      "text/plain": [
       "<Figure size 640x480 with 1 Axes>"
      ]
     },
     "metadata": {},
     "output_type": "display_data"
    }
   ],
   "source": [
    "STEPS = 1\n",
    "\n",
    "# Visualization of density grid \n",
    "densityFig, densityAx = plt.subplots()\n",
    "densityFigureMesh = densityAx.pcolormesh(X, Y, rho, shading='auto')\n",
    "densityFig.savefig(f'plots/basic/density_timestep{0}.png')\n",
    "display.display(densityFig)\n",
    "display.clear_output(wait=True)\n",
    "\n",
    "# function to update the density meshgrid \n",
    "def updateDensityFigure(density, timestep = 0):\n",
    "    if timestep % STEPS == 0:\n",
    "        densityAx.set_title(f\"timestep: {timestep} omega: {omega}\")\n",
    "        densityFigureMesh.update({'array':density})\n",
    "        densityFig.savefig(f'plots/basic/density_timestep{timestep}.png')\n",
    "        display.display(densityFig)\n",
    "        display.clear_output(wait=True)    \n",
    "\n",
    "\n",
    "# Visualization for velocity field using a streamplot \n",
    "velocityFig, velocityAx = plt.subplots()\n",
    "velocityStreamPlot = velocityAx.streamplot(X, Y, ux, uy, density = 0.5)\n",
    "velocityFig.savefig(f'plots/basic/velocity_timestep{0}.png')\n",
    "display.display(velocityFig)\n",
    "display.clear_output(wait=True)\n",
    "\n",
    "# function to update the velocity field grid \n",
    "def updateVelocityFigure(ux,uy, timestep = 0):\n",
    "    if timestep % STEPS == 0:\n",
    "        velocityAx.set_title(f\"timestep: {timestep} omega: {omega}\")\n",
    "        velocityAx.cla()\n",
    "        velocityAx.streamplot(X, Y, ux, uy, density = 0.5)  \n",
    "        velocityFig.savefig(f'plots/basic/velocity_timestep{timestep}.png')\n",
    "        display.display(velocityFig)\n",
    "        display.clear_output(wait=True)"
   ]
  },
  {
   "cell_type": "code",
   "execution_count": 245,
   "metadata": {},
   "outputs": [],
   "source": [
    "# Streaming function\n",
    "# For each lattice point and each direction i, the value in Fi is shifted to the neighbor lattice side \n",
    "def streaming():     \n",
    "  global F\n",
    "  for i, cx, cy in zip(idxs, cxs, cys):\n",
    "    F[:,:,i] = np.roll(F[:,:,i], cx, axis=1)\n",
    "    F[:,:,i] = np.roll(F[:,:,i], cy, axis=0)\n",
    "\n",
    "def collision():\n",
    "  global F\n",
    "  Feq = np.zeros(F.shape)\n",
    "  # calculate the local equilibrium for each lattice point by given equation\n",
    "  # mind that rho and cx,cy have to be recalculated after streaming before using this function\n",
    "  for i, cx, cy, w in zip(idxs, cxs, cys, weights):\n",
    "    Feq[:,:,i] = rho*w* (1 + 3*(cx*ux+cy*uy) + 9*(cx*ux+cy*uy)**2/2 - 3*(ux**2+uy**2)/2)\n",
    "\n",
    "  # simulate collisions \n",
    "  # basically each lattice point gets added a fraction of its difference to the equilibrium  \n",
    "  # the fraction is controlled by the omega value with the following interpretation \n",
    "  # smaller omega --> slower collisions to reach eq --> high viscosity\n",
    "  # larger omega --> faster collisions\n",
    "  F += omega * (Feq - F)"
   ]
  },
  {
   "cell_type": "code",
   "execution_count": 246,
   "metadata": {},
   "outputs": [],
   "source": [
    "# Simulation\n",
    "def simulate(timesteps=timesteps, showDensityPlot=True, showVelocityPlot=True):\n",
    "  global rho, ux, uy\n",
    "\n",
    "  for i in range(timesteps):\n",
    "\n",
    "    # apply drift/stream\n",
    "    streaming()\n",
    "\n",
    "    # Recalc local variables \n",
    "    rho = calculateDensity()\n",
    "    ux, uy  = calculateVelocity()\n",
    "\n",
    "    # apply collision\n",
    "    collision()\n",
    "  \n",
    "    if showDensityPlot:\n",
    "      updateDensityFigure(rho, timestep = i)\n",
    "          \n",
    "    if showVelocityPlot:\n",
    "      updateVelocityFigure(ux,uy, timestep = i)\n",
    "\n",
    "    # plotting for shear wave decay - density\n",
    "    # densities are equal along y axis so simply take one value for each x for visualization\n",
    "    if DENSITY: \n",
    "      q.append(np.max(np.abs(rho - rho0)))\n",
    "      if i % 100 == 0:\n",
    "        data = rho[Ny//2,:]\n",
    "        densitySWFig, densitySWAx = plt.subplots()\n",
    "        densitySWAx.set_xlabel('x')\n",
    "        densitySWAx.set_ylabel('density')\n",
    "        densitySWAx.plot(range(Nx), data)\n",
    "        densitySWAx.set_ylim([rho0-epsilon,rho0+epsilon])\n",
    "        densitySWAx.set_title(f'timestep: {i}, w={omega},  analytical viscosity: {np.round(analyticalViscosity,2)}')\n",
    "        densitySWFig.savefig(f'plots/shearwave/density_timestep{i}.png')\n",
    "        plt.close(densitySWFig)\n",
    "        #display.display(densityFig)\n",
    "\n",
    "    if VELOCITY:\n",
    "      q.append(np.max(np.abs(uy)))\n",
    "      if i % 100 == 0:\n",
    "        data = uy[:,Nx//2]\n",
    "        velocitySWFig, velocitySWAx = plt.subplots()\n",
    "        velocitySWAx.set_xlabel('y')\n",
    "        velocitySWAx.set_ylabel('velocity')\n",
    "        velocitySWAx.plot(range(Ny), data)\n",
    "        velocitySWAx.set_ylim([-epsilon,epsilon])\n",
    "        velocitySWAx.set_title(f'timestep: {i}, w={omega},  analytical viscosity: {np.round(analyticalViscosity,2)}')\n",
    "        velocitySWFig.savefig(f'plots/shearwave/velocity_timestep{i}.png')\n",
    "        plt.close(velocitySWFig)\n",
    "        #display.display(densityFig)\n",
    "    \n",
    "\n",
    "   "
   ]
  },
  {
   "cell_type": "code",
   "execution_count": 247,
   "metadata": {},
   "outputs": [
    {
     "data": {
      "image/png": "[encoded data removed]",
      "text/plain": [
       "<Figure size 640x480 with 1 Axes>"
      ]
     },
     "metadata": {},
     "output_type": "display_data"
    }
   ],
   "source": [
    "# care to run all cells else F is not reset \n",
    "simulate(timesteps=200, showDensityPlot = True, showVelocityPlot = False)"
   ]
  }
 ],
 "metadata": {
  "kernelspec": {
   "display_name": "Python 3",
   "language": "python",
   "name": "python3"
  },
  "language_info": {
   "codemirror_mode": {
    "name": "ipython",
    "version": 3
   },
   "file_extension": ".py",
   "mimetype": "text/x-python",
   "name": "python",
   "nbconvert_exporter": "python",
   "pygments_lexer": "ipython3",
   "version": "3.11.3"
  },
  "orig_nbformat": 4
 },
 "nbformat": 4,
 "nbformat_minor": 2
}
