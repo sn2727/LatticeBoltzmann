{
 "cells": [
  {
   "cell_type": "code",
   "execution_count": 84,
   "metadata": {},
   "outputs": [],
   "source": [
    "import numpy as np\n",
    "import matplotlib.pyplot as plt\n",
    "from IPython import display\n",
    "from time import sleep"
   ]
  },
  {
   "cell_type": "code",
   "execution_count": 85,
   "metadata": {},
   "outputs": [],
   "source": [
    "# Parameters\n",
    "\n",
    "# Grid size in x and y directions \n",
    "Nx = 15    \n",
    "Ny = 10\n",
    "\n",
    "# an initial average density used for initialization\n",
    "rhoInitial = 100    \n",
    "    \n",
    "# omega used for collision calculation to control the time needed to reach equilibrium state \n",
    "# equivalent to 1/tau\n",
    "# smaller omega --> slower collisions to reach eq --> high viscosity\n",
    "# larger omega --> faster collisions\n",
    "omega = 1\n",
    "\n",
    "# number of timesteps to simulate\n",
    "timesteps = 20   "
   ]
  },
  {
   "cell_type": "code",
   "execution_count": 86,
   "metadata": {},
   "outputs": [],
   "source": [
    "# we are modeling LB with 9 directions, setting index will be handy later \n",
    "NL = 9\n",
    "idxs = np.arange(NL)\n",
    "\n",
    "# velocity vectors, splitted into x and y vectors\n",
    "cxs = np.array([0, 0, 1, 1, 1, 0,-1,-1,-1])\n",
    "cys = np.array([0, 1, 1, 0,-1,-1,-1, 0, 1])\n",
    "\n",
    "# weights we use\n",
    "weights = np.array([4/9,1/9,1/36,1/9,1/36,1/9,1/36,1/9,1/36]) \n",
    "# weights should add up to one\n",
    "assert(np.sum(weights) == 1)"
   ]
  },
  {
   "cell_type": "code",
   "execution_count": 87,
   "metadata": {},
   "outputs": [
    {
     "data": {
      "text/plain": [
       "<Figure size 320x160 with 0 Axes>"
      ]
     },
     "metadata": {},
     "output_type": "display_data"
    }
   ],
   "source": [
    "\"\"\"\n",
    "F is the matrix used to calculate density and velocity field \n",
    "The first axis represents the y coordinate of the grid, the second represents the x coordinate (CARE: its (y,x) so the representation is more intuitive)\n",
    "Further the third axis represents the directions (degrees of freedom) we use, that means each lattice points has an array of 9 used for calculations later  \n",
    "\n",
    "[       x0         x1         x2\n",
    "  [ [ [0..8] ] [ [0..8] ] [ [0..8] ] ] y0\n",
    "  [ [ [0..8] ] [ [0..8] ] [ [0..8] ] ] y1\n",
    "  [ [ [0..8] ] [ [0..8] ] [ [0..8] ] ] y2\n",
    "]\n",
    "\n",
    "Example visualization of F\n",
    "\"\"\"\n",
    "\n",
    "# Initialization of F \n",
    "F = np.ones((Ny,Nx,NL))\n",
    "\n",
    "# Define to initialize F for shear wave decay by either sinusodial velocities or densities\n",
    "VELOCITY = True\n",
    "DENSITY = not VELOCITY\n",
    "epsilon = 0.01\n",
    "\n",
    "if DENSITY:\n",
    "  F = np.zeros((Ny,Nx,NL))\n",
    "  rho0 = 1\n",
    "  for x in range(Nx):\n",
    "    F[:,x,0] = rho0 + epsilon * np.sin(2*np.pi/Nx*x)\n",
    "\n",
    "\n",
    "if VELOCITY:\n",
    "  F = np.zeros((Ny,Nx,NL))\n",
    "  F[:,:,0] = np.ones((Ny,Nx))\n",
    "  for y in range(Ny):\n",
    "    F[y,:,1] = epsilon*np.sin(2*np.pi/Ny*y)\n",
    "\n",
    "\n",
    "# Calculation of analytical viscosity\n",
    "analyticalViscosity = (1/3)*((1/omega)-(1/2)) \n",
    "\n",
    "\n",
    "# calculates density for each lattice point over third axis of F \n",
    "# that means to sum up the 9 density values of each lattice point \n",
    "def calculateDensity(): \n",
    "  rho = np.sum(F,2)\n",
    "  return rho\n",
    "\n",
    "rho = calculateDensity()\n",
    "\n",
    "# calculates the velocity at each lattice point by doint the same calculation as for density but multiplied by our \n",
    "# velocity vectors and dividing by the density \n",
    "# returns tuple of array which hold x respectively y value for each lattice point \n",
    "def calculateVelocity():\n",
    "  ux  = np.sum(F*cxs,2) / rho\n",
    "  uy  = np.sum(F*cys,2) / rho\n",
    "  return (ux,uy)\n",
    "\n",
    "ux, uy = calculateVelocity()\n",
    "\n",
    "# mass of the fluid, can be used to verify mass conservation between timesteps\n",
    "def mass():\n",
    "  return np.sum(rho)\n",
    "\n",
    "# for i in idxs:\n",
    "#   F[:,:,i] *= rhoInitial / rho\n",
    "\n",
    "# Cylinder boundary\n",
    "# cylinder = (X - Nx/4)**2 + (Y - Ny/2)**2 < (Ny/4)**2\n",
    "\n",
    "# Prep figure\n",
    "fig = plt.figure(figsize=(4,2), dpi=80)\n",
    "\n",
    "xaxis = np.linspace(0, Nx, Nx)\n",
    "yaxis = np.linspace(0, Ny, Ny)\n",
    "X, Y = np.meshgrid(xaxis, yaxis)"
   ]
  },
  {
   "cell_type": "code",
   "execution_count": 88,
   "metadata": {},
   "outputs": [
    {
     "data": {
      "image/png": "[encoded data removed]",
      "text/plain": [
       "<Figure size 640x480 with 1 Axes>"
      ]
     },
     "metadata": {},
     "output_type": "display_data"
    },
    {
     "data": {
      "image/png": "[encoded data removed]",
      "text/plain": [
       "<Figure size 640x480 with 1 Axes>"
      ]
     },
     "metadata": {},
     "output_type": "display_data"
    }
   ],
   "source": [
    "STEPS = 1\n",
    "\n",
    "# Visualization of density grid \n",
    "densityFig, densityAx = plt.subplots()\n",
    "densityFigureMesh = densityAx.pcolormesh(X, Y, rho, shading='auto')\n",
    "densityFig.savefig(f'plots/basic/density_timestep{0}.png')\n",
    "display.display(densityFig)\n",
    "display.clear_output(wait=True)\n",
    "\n",
    "# function to update the density meshgrid \n",
    "def updateDensityFigure(density, timestep = 0):\n",
    "    if timestep % STEPS == 0:\n",
    "        densityAx.set_title(f\"timestep: {timestep} omega: {omega}\")\n",
    "        densityFigureMesh.update({'array':density})\n",
    "        densityFig.savefig(f'plots/basic/density_timestep{timestep}.png')\n",
    "        display.display(densityFig)\n",
    "        display.clear_output(wait=True)    \n",
    "\n",
    "\n",
    "# Visualization for velocity field using a streamplot \n",
    "velocityFig, velocityAx = plt.subplots()\n",
    "velocityStreamPlot = velocityAx.streamplot(X, Y, ux, uy, density = 0.5)\n",
    "velocityFig.savefig(f'plots/basic/velocity_timestep{0}.png')\n",
    "display.display(velocityFig)\n",
    "display.clear_output(wait=True)\n",
    "\n",
    "# function to update the velocity field grid \n",
    "def updateVelocityFigure(ux,uy, timestep = 0):\n",
    "    if timestep % STEPS == 0:\n",
    "        velocityAx.set_title(f\"timestep: {timestep} omega: {omega}\")\n",
    "        velocityAx.cla()\n",
    "        velocityAx.streamplot(X, Y, ux, uy, density = 0.5)  \n",
    "        velocityFig.savefig(f'plots/basic/velocity_timestep{timestep}.png')\n",
    "        display.display(velocityFig)\n",
    "        display.clear_output(wait=True)"
   ]
  },
  {
   "cell_type": "code",
   "execution_count": 89,
   "metadata": {},
   "outputs": [],
   "source": [
    "# Streaming function\n",
    "# For each lattice point and each direction i, the value in Fi is shifted to the neighbor lattice side \n",
    "def streaming():     \n",
    "  global F\n",
    "  for i, cx, cy in zip(idxs, cxs, cys):\n",
    "    F[:,:,i] = np.roll(F[:,:,i], cx, axis=1)\n",
    "    F[:,:,i] = np.roll(F[:,:,i], cy, axis=0)\n",
    "\n",
    "def collision():\n",
    "  global F\n",
    "  Feq = np.zeros(F.shape)\n",
    "  # calculate the local equilibrium for each lattice point by given equation\n",
    "  # mind that rho and cx,cy have to be recalculated after streaming before using this function\n",
    "  for i, cx, cy, w in zip(idxs, cxs, cys, weights):\n",
    "    Feq[:,:,i] = rho*w* (1 + 3*(cx*ux+cy*uy) + 9*(cx*ux+cy*uy)**2/2 - 3*(ux**2+uy**2)/2)\n",
    "\n",
    "  # simulate collisions \n",
    "  # basically each lattice point gets added a fraction of its difference to the equilibrium  \n",
    "  # the fraction is controlled by the omega value with the following interpretation \n",
    "  # smaller omega --> slower collisions to reach eq --> high viscosity\n",
    "  # larger omega --> faster collisions\n",
    "  F += omega * (Feq - F)"
   ]
  },
  {
   "cell_type": "code",
   "execution_count": 90,
   "metadata": {},
   "outputs": [],
   "source": [
    "# Simulation\n",
    "def simulate(timesteps=timesteps, showDensityPlot=True, showVelocityPlot=True):\n",
    "  global rho, ux, uy\n",
    "\n",
    "  for i in range(timesteps):\n",
    "\n",
    "    # apply drift/stream\n",
    "    streaming()\n",
    "\n",
    "    # Recalc local variables \n",
    "    rho = calculateDensity()\n",
    "    ux, uy  = calculateVelocity()\n",
    "\n",
    "    # apply collision\n",
    "    collision()  \n",
    "  \n",
    "    if showDensityPlot:\n",
    "      updateDensityFigure(rho, timestep = i)\n",
    "          \n",
    "    if showVelocityPlot:\n",
    "      updateVelocityFigure(ux,uy, timestep = i)\n",
    " \n",
    "    # plotting for shear wave decay - density\n",
    "    # densities are equal along y axis so simply take one value for each x for visualization\n",
    "    if DENSITY: \n",
    "      if i % 100 == 0:\n",
    "        data = rho[Ny//2,:]\n",
    "        densitySWFig, densitySWAx = plt.subplots()\n",
    "        densitySWAx.set_xlabel('x')\n",
    "        densitySWAx.set_ylabel('density')\n",
    "        densitySWAx.plot(range(Nx), data)\n",
    "        densitySWAx.set_ylim([rho0-epsilon,rho0+epsilon])\n",
    "        densitySWAx.set_title(f'timestep: {i} analytical viscosity: {np.round(analyticalViscosity,2)}')\n",
    "        densitySWFig.savefig(f'plots/shearwave/density_timestep{i}.png')\n",
    "        plt.close(densitySWFig)\n",
    "        #display.display(densityFig)\n",
    "\n",
    "    if VELOCITY:\n",
    "      if i % 100 == 0:\n",
    "        data = uy[:,Nx//2]\n",
    "        velocitySWFig, velocitySWAx = plt.subplots()\n",
    "        velocitySWAx.set_xlabel('y')\n",
    "        velocitySWAx.set_ylabel('velocity')\n",
    "        velocitySWAx.plot(range(Ny), data)\n",
    "        velocitySWAx.set_ylim([-epsilon,epsilon])\n",
    "        velocitySWAx.set_title(f'timestep: {i} analytical viscosity: {np.round(analyticalViscosity,2)}')\n",
    "        velocitySWFig.savefig(f'plots/shearwave/velocity_timestep{i}.png')\n",
    "        plt.close(velocitySWFig)\n",
    "        #display.display(densityFig)\n",
    "    \n",
    "\n",
    "   "
   ]
  },
  {
   "cell_type": "code",
   "execution_count": 91,
   "metadata": {},
   "outputs": [
    {
     "ename": "KeyboardInterrupt",
     "evalue": "",
     "output_type": "error",
     "traceback": [
      "\u001b[1;31m---------------------------------------------------------------------------\u001b[0m",
      "\u001b[1;31mKeyboardInterrupt\u001b[0m                         Traceback (most recent call last)",
      "Cell \u001b[1;32mIn[91], line 1\u001b[0m\n\u001b[1;32m----> 1\u001b[0m simulate(timesteps\u001b[39m=\u001b[39;49m\u001b[39m50\u001b[39;49m, showDensityPlot \u001b[39m=\u001b[39;49m \u001b[39mFalse\u001b[39;49;00m, showVelocityPlot \u001b[39m=\u001b[39;49m \u001b[39mTrue\u001b[39;49;00m)\n",
      "Cell \u001b[1;32mIn[90], line 21\u001b[0m, in \u001b[0;36msimulate\u001b[1;34m(timesteps, showDensityPlot, showVelocityPlot)\u001b[0m\n\u001b[0;32m     18\u001b[0m   updateDensityFigure(rho, timestep \u001b[39m=\u001b[39m i)\n\u001b[0;32m     20\u001b[0m \u001b[39mif\u001b[39;00m showVelocityPlot:\n\u001b[1;32m---> 21\u001b[0m   updateVelocityFigure(ux,uy, timestep \u001b[39m=\u001b[39;49m i)\n\u001b[0;32m     23\u001b[0m \u001b[39m# plotting for shear wave decay - density\u001b[39;00m\n\u001b[0;32m     24\u001b[0m \u001b[39m# densities are equal along y axis so simply take one value for each x for visualization\u001b[39;00m\n\u001b[0;32m     25\u001b[0m \u001b[39mif\u001b[39;00m DENSITY: \n",
      "Cell \u001b[1;32mIn[88], line 32\u001b[0m, in \u001b[0;36mupdateVelocityFigure\u001b[1;34m(ux, uy, timestep)\u001b[0m\n\u001b[0;32m     30\u001b[0m velocityAx\u001b[39m.\u001b[39mset_title(\u001b[39mf\u001b[39m\u001b[39m\"\u001b[39m\u001b[39mtimestep: \u001b[39m\u001b[39m{\u001b[39;00mtimestep\u001b[39m}\u001b[39;00m\u001b[39m omega: \u001b[39m\u001b[39m{\u001b[39;00momega\u001b[39m}\u001b[39;00m\u001b[39m\"\u001b[39m)\n\u001b[0;32m     31\u001b[0m velocityAx\u001b[39m.\u001b[39mcla()\n\u001b[1;32m---> 32\u001b[0m velocityAx\u001b[39m.\u001b[39;49mstreamplot(X, Y, ux, uy, density \u001b[39m=\u001b[39;49m \u001b[39m0.5\u001b[39;49m)  \n\u001b[0;32m     33\u001b[0m velocityFig\u001b[39m.\u001b[39msavefig(\u001b[39mf\u001b[39m\u001b[39m'\u001b[39m\u001b[39mplots/basic/velocity_timestep\u001b[39m\u001b[39m{\u001b[39;00mtimestep\u001b[39m}\u001b[39;00m\u001b[39m.png\u001b[39m\u001b[39m'\u001b[39m)\n\u001b[0;32m     34\u001b[0m display\u001b[39m.\u001b[39mdisplay(velocityFig)\n",
      "File \u001b[1;32m~\\AppData\\Local\\Packages\\PythonSoftwareFoundation.Python.3.11_qbz5n2kfra8p0\\LocalCache\\local-packages\\Python311\\site-packages\\matplotlib\\__init__.py:1459\u001b[0m, in \u001b[0;36m_preprocess_data.<locals>.inner\u001b[1;34m(ax, data, *args, **kwargs)\u001b[0m\n\u001b[0;32m   1456\u001b[0m \u001b[39m@functools\u001b[39m\u001b[39m.\u001b[39mwraps(func)\n\u001b[0;32m   1457\u001b[0m \u001b[39mdef\u001b[39;00m \u001b[39minner\u001b[39m(ax, \u001b[39m*\u001b[39margs, data\u001b[39m=\u001b[39m\u001b[39mNone\u001b[39;00m, \u001b[39m*\u001b[39m\u001b[39m*\u001b[39mkwargs):\n\u001b[0;32m   1458\u001b[0m     \u001b[39mif\u001b[39;00m data \u001b[39mis\u001b[39;00m \u001b[39mNone\u001b[39;00m:\n\u001b[1;32m-> 1459\u001b[0m         \u001b[39mreturn\u001b[39;00m func(ax, \u001b[39m*\u001b[39;49m\u001b[39mmap\u001b[39;49m(sanitize_sequence, args), \u001b[39m*\u001b[39;49m\u001b[39m*\u001b[39;49mkwargs)\n\u001b[0;32m   1461\u001b[0m     bound \u001b[39m=\u001b[39m new_sig\u001b[39m.\u001b[39mbind(ax, \u001b[39m*\u001b[39margs, \u001b[39m*\u001b[39m\u001b[39m*\u001b[39mkwargs)\n\u001b[0;32m   1462\u001b[0m     auto_label \u001b[39m=\u001b[39m (bound\u001b[39m.\u001b[39marguments\u001b[39m.\u001b[39mget(label_namer)\n\u001b[0;32m   1463\u001b[0m                   \u001b[39mor\u001b[39;00m bound\u001b[39m.\u001b[39mkwargs\u001b[39m.\u001b[39mget(label_namer))\n",
      "File \u001b[1;32m~\\AppData\\Local\\Packages\\PythonSoftwareFoundation.Python.3.11_qbz5n2kfra8p0\\LocalCache\\local-packages\\Python311\\site-packages\\matplotlib\\streamplot.py:155\u001b[0m, in \u001b[0;36mstreamplot\u001b[1;34m(axes, x, y, u, v, density, linewidth, color, cmap, norm, arrowsize, arrowstyle, minlength, transform, zorder, start_points, maxlength, integration_direction, broken_streamlines)\u001b[0m\n\u001b[0;32m    153\u001b[0m \u001b[39mif\u001b[39;00m mask[ym, xm] \u001b[39m==\u001b[39m \u001b[39m0\u001b[39m:\n\u001b[0;32m    154\u001b[0m     xg, yg \u001b[39m=\u001b[39m dmap\u001b[39m.\u001b[39mmask2grid(xm, ym)\n\u001b[1;32m--> 155\u001b[0m     t \u001b[39m=\u001b[39m integrate(xg, yg, broken_streamlines)\n\u001b[0;32m    156\u001b[0m     \u001b[39mif\u001b[39;00m t \u001b[39mis\u001b[39;00m \u001b[39mnot\u001b[39;00m \u001b[39mNone\u001b[39;00m:\n\u001b[0;32m    157\u001b[0m         trajectories\u001b[39m.\u001b[39mappend(t)\n",
      "File \u001b[1;32m~\\AppData\\Local\\Packages\\PythonSoftwareFoundation.Python.3.11_qbz5n2kfra8p0\\LocalCache\\local-packages\\Python311\\site-packages\\matplotlib\\streamplot.py:484\u001b[0m, in \u001b[0;36m_get_integrator.<locals>.integrate\u001b[1;34m(x0, y0, broken_streamlines)\u001b[0m\n\u001b[0;32m    482\u001b[0m     \u001b[39mreturn\u001b[39;00m \u001b[39mNone\u001b[39;00m\n\u001b[0;32m    483\u001b[0m \u001b[39mif\u001b[39;00m integration_direction \u001b[39min\u001b[39;00m [\u001b[39m'\u001b[39m\u001b[39mboth\u001b[39m\u001b[39m'\u001b[39m, \u001b[39m'\u001b[39m\u001b[39mbackward\u001b[39m\u001b[39m'\u001b[39m]:\n\u001b[1;32m--> 484\u001b[0m     s, xyt \u001b[39m=\u001b[39m _integrate_rk12(x0, y0, dmap, backward_time, maxlength,\n\u001b[0;32m    485\u001b[0m                              broken_streamlines)\n\u001b[0;32m    486\u001b[0m     stotal \u001b[39m+\u001b[39m\u001b[39m=\u001b[39m s\n\u001b[0;32m    487\u001b[0m     xy_traj \u001b[39m+\u001b[39m\u001b[39m=\u001b[39m xyt[::\u001b[39m-\u001b[39m\u001b[39m1\u001b[39m]\n",
      "File \u001b[1;32m~\\AppData\\Local\\Packages\\PythonSoftwareFoundation.Python.3.11_qbz5n2kfra8p0\\LocalCache\\local-packages\\Python311\\site-packages\\matplotlib\\streamplot.py:561\u001b[0m, in \u001b[0;36m_integrate_rk12\u001b[1;34m(x0, y0, dmap, f, maxlength, broken_streamlines)\u001b[0m\n\u001b[0;32m    556\u001b[0m         \u001b[39mraise\u001b[39;00m OutOfBounds\n\u001b[0;32m    558\u001b[0m     \u001b[39m# Compute the two intermediate gradients.\u001b[39;00m\n\u001b[0;32m    559\u001b[0m     \u001b[39m# f should raise OutOfBounds if the locations given are\u001b[39;00m\n\u001b[0;32m    560\u001b[0m     \u001b[39m# outside the grid.\u001b[39;00m\n\u001b[1;32m--> 561\u001b[0m     k1x, k1y \u001b[39m=\u001b[39m f(xi, yi)\n\u001b[0;32m    562\u001b[0m     k2x, k2y \u001b[39m=\u001b[39m f(xi \u001b[39m+\u001b[39m ds \u001b[39m*\u001b[39m k1x, yi \u001b[39m+\u001b[39m ds \u001b[39m*\u001b[39m k1y)\n\u001b[0;32m    564\u001b[0m \u001b[39mexcept\u001b[39;00m OutOfBounds:\n\u001b[0;32m    565\u001b[0m     \u001b[39m# Out of the domain during this step.\u001b[39;00m\n\u001b[0;32m    566\u001b[0m     \u001b[39m# Take an Euler step to the boundary to improve neatness\u001b[39;00m\n\u001b[0;32m    567\u001b[0m     \u001b[39m# unless the trajectory is currently empty.\u001b[39;00m\n",
      "File \u001b[1;32m~\\AppData\\Local\\Packages\\PythonSoftwareFoundation.Python.3.11_qbz5n2kfra8p0\\LocalCache\\local-packages\\Python311\\site-packages\\matplotlib\\streamplot.py:462\u001b[0m, in \u001b[0;36m_get_integrator.<locals>.backward_time\u001b[1;34m(xi, yi)\u001b[0m\n\u001b[0;32m    461\u001b[0m \u001b[39mdef\u001b[39;00m \u001b[39mbackward_time\u001b[39m(xi, yi):\n\u001b[1;32m--> 462\u001b[0m     dxi, dyi \u001b[39m=\u001b[39m forward_time(xi, yi)\n\u001b[0;32m    463\u001b[0m     \u001b[39mreturn\u001b[39;00m \u001b[39m-\u001b[39mdxi, \u001b[39m-\u001b[39mdyi\n",
      "File \u001b[1;32m~\\AppData\\Local\\Packages\\PythonSoftwareFoundation.Python.3.11_qbz5n2kfra8p0\\LocalCache\\local-packages\\Python311\\site-packages\\matplotlib\\streamplot.py:458\u001b[0m, in \u001b[0;36m_get_integrator.<locals>.forward_time\u001b[1;34m(xi, yi)\u001b[0m\n\u001b[0;32m    456\u001b[0m dt_ds \u001b[39m=\u001b[39m \u001b[39m1.\u001b[39m \u001b[39m/\u001b[39m ds_dt\n\u001b[0;32m    457\u001b[0m ui \u001b[39m=\u001b[39m interpgrid(u, xi, yi)\n\u001b[1;32m--> 458\u001b[0m vi \u001b[39m=\u001b[39m interpgrid(v, xi, yi)\n\u001b[0;32m    459\u001b[0m \u001b[39mreturn\u001b[39;00m ui \u001b[39m*\u001b[39m dt_ds, vi \u001b[39m*\u001b[39m dt_ds\n",
      "File \u001b[1;32m~\\AppData\\Local\\Packages\\PythonSoftwareFoundation.Python.3.11_qbz5n2kfra8p0\\LocalCache\\local-packages\\Python311\\site-packages\\matplotlib\\streamplot.py:633\u001b[0m, in \u001b[0;36minterpgrid\u001b[1;34m(a, xi, yi)\u001b[0m\n\u001b[0;32m    630\u001b[0m \u001b[39mdef\u001b[39;00m \u001b[39minterpgrid\u001b[39m(a, xi, yi):\n\u001b[0;32m    631\u001b[0m \u001b[39m    \u001b[39m\u001b[39m\"\"\"Fast 2D, linear interpolation on an integer grid\"\"\"\u001b[39;00m\n\u001b[1;32m--> 633\u001b[0m     Ny, Nx \u001b[39m=\u001b[39m np\u001b[39m.\u001b[39;49mshape(a)\n\u001b[0;32m    634\u001b[0m     \u001b[39mif\u001b[39;00m \u001b[39misinstance\u001b[39m(xi, np\u001b[39m.\u001b[39mndarray):\n\u001b[0;32m    635\u001b[0m         x \u001b[39m=\u001b[39m xi\u001b[39m.\u001b[39mastype(\u001b[39mint\u001b[39m)\n",
      "File \u001b[1;32m<__array_function__ internals>:177\u001b[0m, in \u001b[0;36mshape\u001b[1;34m(*args, **kwargs)\u001b[0m\n",
      "\u001b[1;31mKeyboardInterrupt\u001b[0m: "
     ]
    }
   ],
   "source": [
    "simulate(timesteps=50, showDensityPlot = False, showVelocityPlot = True)"
   ]
  }
 ],
 "metadata": {
  "kernelspec": {
   "display_name": "Python 3",
   "language": "python",
   "name": "python3"
  },
  "language_info": {
   "codemirror_mode": {
    "name": "ipython",
    "version": 3
   },
   "file_extension": ".py",
   "mimetype": "text/x-python",
   "name": "python",
   "nbconvert_exporter": "python",
   "pygments_lexer": "ipython3",
   "version": "3.11.3"
  },
  "orig_nbformat": 4
 },
 "nbformat": 4,
 "nbformat_minor": 2
}
