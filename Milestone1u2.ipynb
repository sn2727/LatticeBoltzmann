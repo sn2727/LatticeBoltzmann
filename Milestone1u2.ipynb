{
 "cells": [
  {
   "cell_type": "code",
   "execution_count": 2,
   "metadata": {},
   "outputs": [],
   "source": [
    "import numpy as np\n",
    "from matplotlib import pyplot as plt, cm, colors\n",
    "from time import sleep \n",
    "from IPython.display import clear_output\n"
   ]
  },
  {
   "cell_type": "code",
   "execution_count": 3,
   "metadata": {},
   "outputs": [],
   "source": [
    "# Parameters\n",
    "\n",
    "# number of timesteps to simulate\n",
    "tn = 1000\n",
    "\n",
    "# Resolution of grid in x respectively y direction\n",
    "xn = 15\n",
    "yn = 10\n",
    "\n",
    "# velocity set c \n",
    "# ordered as upper left, upper middle, upper right, mid left, center, ... \n",
    "c = np.array([[-1, 0, 1, -1, 0, 1, -1, 0, 1], [1, 1, 1, 0, 0, 0, -1, -1, -1]]).transpose()\n",
    "\n",
    "# we use 9 different direction vectors\n",
    "ln = 9\n",
    "idxs = np.arange(ln)\n",
    "\n",
    "# weights in same order as c for calculation of collisions \n",
    "weights = [1/36, 1/9, 1/36, 1/9, 4/9, 1/9, 1/36, 1/9, 1/36]\n",
    "assert(np.sum(weights) == 1)\n"
   ]
  },
  {
   "cell_type": "code",
   "execution_count": 4,
   "metadata": {},
   "outputs": [],
   "source": [
    "# Initialization of F \n",
    "\n",
    "# F is used as a matrix to store velocities\n",
    "# This F is used to calculate the densities and velocities\n",
    "# Thus it has shape of xn,yn,9\n",
    "F = np.zeros((xn,yn,ln))\n",
    "# initialization of F, for instance by setting only one coordinate to a specific value or all to random values\n",
    "#F[1,1,5] = 1000\n",
    "\n",
    "F = np.ones((xn,yn,ln))\n",
    "F[4,4,0] = 100 \n",
    "#F += 0.01*np.random.randn(xn,yn,ln)\n",
    "# avgDensity = 100\n",
    "# F *= avgDensity"
   ]
  },
  {
   "cell_type": "code",
   "execution_count": 5,
   "metadata": {},
   "outputs": [],
   "source": [
    "# calculates density at point x,y \n",
    "def density(x,y):\n",
    "    return np.sum(F[x,y])\n",
    "\n",
    "# calculates the density for each lattice point\n",
    "def densityGrid():\n",
    "    XY = np.ones((xn,yn))\n",
    "    for x in range(xn):\n",
    "        for y in range(yn):\n",
    "            XY[x][y] = density(x,y)\n",
    "    return XY \n",
    "\n",
    "\n",
    "# calculates the velocity for one lattice point \n",
    "def velocity(x,y):\n",
    "    val = 0\n",
    "    for i in range(ln):\n",
    "        val += F[x,y,i] * c[i] \n",
    "    return (1/density(x,y)) * val\n",
    "\n",
    "def velocityGrid():\n",
    "    U = np.ones((xn,yn))\n",
    "    V = np.ones((xn,yn))\n",
    "    for x in range(xn):\n",
    "        for y in range(yn):\n",
    "            uv = velocity(x,y)\n",
    "            U[x][y] = uv[0]\n",
    "            V[x][y] = uv[1]\n",
    "    return (U,V) "
   ]
  },
  {
   "cell_type": "code",
   "execution_count": 26,
   "metadata": {},
   "outputs": [
    {
     "data": {
      "image/png": "[encoded data removed]",
      "text/plain": [
       "<Figure size 700x350 with 1 Axes>"
      ]
     },
     "metadata": {},
     "output_type": "display_data"
    }
   ],
   "source": [
    "\n",
    "def visDensity(update=False, data=[]):\n",
    "    fig, ax = plt.subplots()\n",
    "\n",
    "    plt.rcParams[\"figure.figsize\"] = [7.00, 3.50]\n",
    "    plt.rcParams[\"figure.autolayout\"] = True\n",
    "\n",
    "    xaxis = np.linspace(0, xn, xn)\n",
    "    yaxis = np.linspace(0, yn, yn)\n",
    "\n",
    "    X, Y = np.meshgrid(xaxis, yaxis)\n",
    "    Z = densityGrid().transpose() \n",
    "    \n",
    "    meshData = ax.pcolormesh(X, Y, Z, shading='auto')\n",
    "    #meshData.update({'array':np.ones((10,15))})\n",
    "    plt.show()\n",
    "    return meshData\n",
    "\n",
    "visDensity()\n",
    "\n",
    "def visVelocity():\n",
    "\n",
    "    xaxis = np.linspace(0, xn, xn)\n",
    "    yaxis = np.linspace(0, yn, yn)\n",
    "    X, Y = np.meshgrid(xaxis, yaxis)\n",
    "    \n",
    "    u,v = velocityGrid()\n",
    "\n",
    "    plt.rcParams[\"figure.figsize\"] = [7.00, 3.50]\n",
    "    plt.rcParams[\"figure.autolayout\"] = True\n",
    "    \n",
    "    # Plotting stream plot\n",
    "    plt.streamplot(X, Y, u.transpose(), v.transpose(), density = 0.5)\n",
    "    \n",
    "    # show plot\n",
    "    plt.show()\n"
   ]
  },
  {
   "cell_type": "code",
   "execution_count": 16,
   "metadata": {},
   "outputs": [],
   "source": [
    "# streaming function, simulates momentum of the particles for one unit timestep \n",
    "\n",
    "def streaming():\n",
    "    for i in idxs:\n",
    "        cx = c[i][0]\n",
    "        cy = c[i][1]\n",
    "        F[:,:,i] = np.roll(F[:,:,i], cx, axis=0)\n",
    "        F[:,:,i] = np.roll(F[:,:,i], cy, axis=1)\n",
    "\n",
    "def collision():\n",
    "    pass\n"
   ]
  },
  {
   "cell_type": "code",
   "execution_count": 29,
   "metadata": {},
   "outputs": [
    {
     "data": {
      "image/png": "[encoded data removed]",
      "text/plain": [
       "<Figure size 700x350 with 1 Axes>"
      ]
     },
     "metadata": {},
     "output_type": "display_data"
    },
    {
     "data": {
      "text/plain": [
       "<Figure size 700x350 with 0 Axes>"
      ]
     },
     "metadata": {},
     "output_type": "display_data"
    }
   ],
   "source": [
    "# simulation\n",
    "\n",
    "meshData = visDensity()\n",
    "meshData.update({'array':np.ones((10,15))})\n",
    "plt.draw()\n",
    "plt.show()\n",
    "for t in range(5):\n",
    "    streaming()\n",
    "    collision()\n",
    "    sleep(3)\n",
    "    \n"
   ]
  }
 ],
 "metadata": {
  "kernelspec": {
   "display_name": "Python 3",
   "language": "python",
   "name": "python3"
  },
  "language_info": {
   "codemirror_mode": {
    "name": "ipython",
    "version": 3
   },
   "file_extension": ".py",
   "mimetype": "text/x-python",
   "name": "python",
   "nbconvert_exporter": "python",
   "pygments_lexer": "ipython3",
   "version": "3.11.3"
  },
  "orig_nbformat": 4
 },
 "nbformat": 4,
 "nbformat_minor": 2
}
