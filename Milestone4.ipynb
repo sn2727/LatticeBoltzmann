{
 "cells": [
  {
   "cell_type": "code",
   "execution_count": 426,
   "metadata": {},
   "outputs": [],
   "source": [
    "\"\"\"\n",
    "Implementation of the Couette Flow \n",
    "\"\"\"\n",
    "\n",
    "import numpy as np\n",
    "import matplotlib.pyplot as plt\n",
    "from IPython import display"
   ]
  },
  {
   "cell_type": "code",
   "execution_count": 427,
   "metadata": {},
   "outputs": [],
   "source": [
    "# Parameters\n",
    "\n",
    "# Grid size in x and y directions \n",
    "Nx = 50\n",
    "Ny = 50\n",
    "\n",
    "# an initial average density used for initialization\n",
    "rhoInitial = 1\n",
    "\n",
    "# omega used for collision calculation to control the time needed to reach equilibrium state \n",
    "# equivalent to 1/tau\n",
    "# smaller omega --> slower collisions to reach eq --> high viscosity (dickflüssig)\n",
    "# larger omega --> faster collisions\n",
    "omega = 1"
   ]
  },
  {
   "cell_type": "code",
   "execution_count": 428,
   "metadata": {},
   "outputs": [],
   "source": [
    "# we are modeling LB with 9 directions, setting index will be handy later \n",
    "NL = 9\n",
    "idxs = np.arange(NL)\n",
    "\n",
    "# velocity vectors, splitted into x and y vectors\n",
    "cxs = np.array([0, 0, 1, 1, 1, 0,-1,-1,-1])\n",
    "cys = np.array([0, 1, 1, 0,-1,-1,-1, 0, 1])\n",
    "\n",
    "\n",
    "# weights we use\n",
    "weights = np.array([4/9,1/9,1/36,1/9,1/36,1/9,1/36,1/9,1/36]) \n",
    "# weights should add up to one\n",
    "assert(np.sum(weights) == 1)"
   ]
  },
  {
   "cell_type": "code",
   "execution_count": 429,
   "metadata": {},
   "outputs": [
    {
     "data": {
      "text/plain": [
       "<Figure size 320x160 with 0 Axes>"
      ]
     },
     "metadata": {},
     "output_type": "display_data"
    }
   ],
   "source": [
    "\"\"\"\n",
    "F is the matrix used to calculate density and velocity field \n",
    "The first axis represents the y coordinate of the grid, the second represents the x coordinate (CARE: its (y,x) so the representation is more intuitive)\n",
    "Further the third axis represents the directions (degrees of freedom) we use, that means each lattice points has an array of 9 used for calculations later  \n",
    "\n",
    "[       x0         x1         x2\n",
    "  [ [ [0..8] ] [ [0..8] ] [ [0..8] ] ] y0\n",
    "  [ [ [0..8] ] [ [0..8] ] [ [0..8] ] ] y1\n",
    "  [ [ [0..8] ] [ [0..8] ] [ [0..8] ] ] y2\n",
    "]\n",
    "\n",
    "Example visualization of F\n",
    "\"\"\"\n",
    "\n",
    "# Initialization of F \n",
    "F = np.ones((Ny,Nx,NL))\n",
    "F[24,24,5] = 10\n",
    "F[10,10,5] = 10\n",
    "# calculates density for each lattice point over third axis of F \n",
    "# that means to sum up the 9 density values of each lattice point \n",
    "def calculateDensity(): \n",
    "  rho = np.sum(F,2)\n",
    "  return rho\n",
    "\n",
    "rho = calculateDensity()\n",
    "\n",
    "# calculates the velocity at each lattice point by doint the same calculation as for density but multiplied by our \n",
    "# velocity vectors and dividing by the density \n",
    "# returns tuple of array which hold x respectively y value for each lattice point \n",
    "def calculateVelocity():\n",
    "  ux = np.sum(F*cxs,2) / rho\n",
    "  uy = np.sum(F*cys,2) / rho\n",
    "  return (ux,uy)\n",
    "\n",
    "ux, uy = calculateVelocity()\n",
    "\n",
    "# wall velocity\n",
    "wallVelocity = 0.1\n",
    "wvarr = [0.0, wallVelocity]\n",
    "y = np.arange(Ny)\n",
    "analyticalVelocity = (Ny-1 - y) / (Ny-1) * wvarr[1] \n",
    "\n",
    "# mass of the fluid, can be used to verify mass conservation between timesteps\n",
    "def mass():\n",
    "  return np.sum(rho)\n",
    "\n",
    "# Prep figure\n",
    "fig = plt.figure(figsize=(4,2), dpi=80)\n",
    "\n",
    "xaxis = np.linspace(0, Nx, Nx)\n",
    "yaxis = np.linspace(0, Ny, Ny)\n",
    "X, Y = np.meshgrid(xaxis, yaxis)\n"
   ]
  },
  {
   "cell_type": "code",
   "execution_count": 430,
   "metadata": {},
   "outputs": [
    {
     "data": {
      "image/png": "[encoded data removed]",
      "text/plain": [
       "<Figure size 640x480 with 1 Axes>"
      ]
     },
     "metadata": {},
     "output_type": "display_data"
    },
    {
     "data": {
      "image/png": "[encoded data removed]",
      "text/plain": [
       "<Figure size 640x480 with 1 Axes>"
      ]
     },
     "metadata": {},
     "output_type": "display_data"
    }
   ],
   "source": [
    "# At every n*STEPS, an image of the plot is saved \n",
    "STEPS = 1\n",
    "\n",
    "# Visualization of density grid \n",
    "densityFig, densityAx = plt.subplots()\n",
    "densityFigureMesh = densityAx.pcolormesh(X, Y, rho, shading='auto')\n",
    "densityFig.savefig(f'plots/basic/density_timestep{0}.png')\n",
    "display.display(densityFig)\n",
    "display.clear_output(wait=True)\n",
    "\n",
    "# function to update the density meshgrid \n",
    "def updateDensityFigure(density, timestep = 0):\n",
    "    if timestep % STEPS == 0:\n",
    "        densityAx.set_title(f\"timestep: {timestep} omega: {omega}\")\n",
    "        densityFigureMesh.update({'array':density})\n",
    "        densityFig.savefig(f'plots/basic/density_timestep{timestep}.png')\n",
    "        display.display(densityFig)\n",
    "        display.clear_output(wait=True)    \n",
    "\n",
    "\n",
    "# Visualization for velocity field using a streamplot \n",
    "velocityFig, velocityAx = plt.subplots()\n",
    "velocityStreamPlot = velocityAx.streamplot(X, Y, ux, uy, density = 0.5)\n",
    "velocityFig.savefig(f'plots/basic/velocity_timestep{0}.png')\n",
    "display.display(velocityFig)\n",
    "display.clear_output(wait=True)\n",
    "\n",
    "# function to update the velocity field grid \n",
    "def updateVelocityFigure(ux,uy, timestep = 0):\n",
    "    if timestep % STEPS == 0:\n",
    "        velocityAx.set_title(f\"timestep: {timestep} omega: {omega}\")\n",
    "        velocityAx.cla()\n",
    "        velocityAx.streamplot(X, Y, ux, uy, density = 0.5)  \n",
    "        velocityFig.savefig(f'plots/basic/velocity_timestep{timestep}.png')\n",
    "        display.display(velocityFig)\n",
    "        display.clear_output(wait=True)"
   ]
  },
  {
   "cell_type": "code",
   "execution_count": 431,
   "metadata": {},
   "outputs": [],
   "source": [
    "# Streaming function\n",
    "# For each lattice point and each direction i, the value in Fi is shifted to the neighbor lattice side \n",
    "def streaming():     \n",
    "  global F\n",
    "  for i, cx, cy in zip(idxs, cxs, cys):\n",
    "    F[:,:,i] = np.roll(F[:,:,i], cx, axis=1)\n",
    "    F[:,:,i] = np.roll(F[:,:,i], cy, axis=0)\n",
    "\n",
    "def collision():\n",
    "  global F\n",
    "  Feq = np.zeros(F.shape)\n",
    "  # calculate the local equilibrium for each lattice point by given equation\n",
    "  # mind that rho and cx,cy have to be recalculated after streaming before using this function\n",
    "  for i, cx, cy, w in zip(idxs, cxs, cys, weights):\n",
    "    Feq[:,:,i] = rho*w* (1 + 3*(cx*ux+cy*uy) + 9*(cx*ux+cy*uy)**2/2 - 3*(ux**2+uy**2)/2)\n",
    "\n",
    "  # simulate collisions \n",
    "  # basically each lattice point gets added a fraction of its difference to the equilibrium  \n",
    "  # the fraction is controlled by the omega value with the following interpretation \n",
    "  # smaller omega --> slower collisions to reach eq --> high viscosity\n",
    "  # larger omega --> faster collisions\n",
    "  F += omega * (Feq - F)"
   ]
  },
  {
   "cell_type": "code",
   "execution_count": 432,
   "metadata": {},
   "outputs": [],
   "source": [
    "# maps velocity vectors to their opposite with respect to ux,uy\n",
    "OPPOSITE_IDXS = np.ascontiguousarray([0,5,6,7,8,1,2,3,4])\n",
    "\n",
    "class BottomWallBoundary():\n",
    "    # indexes of vectors pointing downwards (y = -1)\n",
    "    idxs = [4, 5, 6]\n",
    "    tmp = F[-2]\n",
    "\n",
    "    def before(self):\n",
    "        global F \n",
    "        # store values of second to last row regarding y coordinate\n",
    "        self.tmp = F[-2]\n",
    "\n",
    "    def after(self):\n",
    "        global F,uy,ux\n",
    "        # set stored values for the velocity vectors pointing down to stored oppsite velocity values \n",
    "        F[-1, :, self.idxs] = self.tmp[:, OPPOSITE_IDXS[self.idxs]].T\n",
    "        # set velocities of points at bottom bounding to 0 \n",
    "        ux[-1,:] = 0.0\n",
    "        uy[-1,:] = 0.0\n",
    "\n",
    "class MovingTopWallBoundary():\n",
    "    idxs = [1,2,8]\n",
    "    wallVelocity = wallVelocity\n",
    "    cs = 1/np.sqrt(3)\n",
    "    tmp = F[1]\n",
    "\n",
    "    def before(self):\n",
    "        global F \n",
    "        self.tmp = F[1]\n",
    "    \n",
    "    def after(self):\n",
    "        global F\n",
    "\n",
    "        C = np.ascontiguousarray(\n",
    "             np.array([[0,1,1,0,-1,-1,-1,0,1], \n",
    "                       [0,0,1,1,1,0,-1,-1,-1]]).T\n",
    "        )\n",
    "\n",
    "        density = np.sum(F[1], axis=-1)\n",
    "        multiplier = 2 * (1/self.cs) ** 2\n",
    "        momentum = multiplier * (C @ [0.0, self.wallVelocity]) * (weights * density[:, None])\n",
    "        momentum = momentum[:, OPPOSITE_IDXS[self.idxs]]\n",
    "        F[0, :, self.idxs] = (self.tmp[:, OPPOSITE_IDXS[self.idxs]] - momentum).T\n",
    "        \n"
   ]
  },
  {
   "cell_type": "code",
   "execution_count": 433,
   "metadata": {},
   "outputs": [],
   "source": [
    "# Simulation\n",
    "def simulate(timesteps=1000, showDensityPlot=True, showVelocityPlot=True):\n",
    "  global rho, ux, uy\n",
    "  \n",
    "  bottomWallBoundary = BottomWallBoundary()\n",
    "  movingTopWallBoundary = MovingTopWallBoundary()\n",
    "  fig, ax = plt.subplots()\n",
    "  fig2, ax2 = plt.subplots()\n",
    "  figs, axes = [fig, fig2], [ax, ax2]\n",
    "\n",
    "  for i in range(timesteps):\n",
    "\n",
    "    bottomWallBoundary.before()\n",
    "    movingTopWallBoundary.before()\n",
    "\n",
    "    # apply drift/stream\n",
    "    streaming()\n",
    "\n",
    "    # Recalc local variables \n",
    "    rho = calculateDensity()\n",
    "    ux, uy = calculateVelocity()\n",
    "\n",
    "    # apply collision\n",
    "    collision()\n",
    "\n",
    "    bottomWallBoundary.after()\n",
    "    movingTopWallBoundary.after()\n",
    "  \n",
    "    if showDensityPlot:\n",
    "      updateDensityFigure(rho, timestep = i)\n",
    "          \n",
    "    if showVelocityPlot:\n",
    "      updateVelocityFigure(ux, uy, timestep = i)\n",
    "\n",
    "    saveEvery = 50\n",
    "    if i % saveEvery == 0:\n",
    "      axes[0].cla()\n",
    "      axes[0].set_xlim([-0.01, wallVelocity])\n",
    "      axes[0].axhline(0.0, color='k')\n",
    "      axes[0].axhline(Ny-1, color='r')\n",
    "      axes[0].plot(ux[:,Nx//2], y)\n",
    "      axes[0].plot(analyticalVelocity, y)\n",
    "      axes[0].set_ylabel('y')\n",
    "      axes[0].set_xlabel('velocity')\n",
    "      axes[0].legend(['Moving Wall', 'Rigid Wall',\n",
    "                      'Simulated Velocity', 'Analytical Velocity'])\n",
    "      figs[0].savefig(f\"./plots/couette_flow/img_{i}\", bbox_inches='tight', pad_inches=0)\n",
    "\n"
   ]
  },
  {
   "cell_type": "code",
   "execution_count": 434,
   "metadata": {},
   "outputs": [
    {
     "data": {
      "image/png": "[encoded data removed]",
      "text/plain": [
       "<Figure size 640x480 with 1 Axes>"
      ]
     },
     "metadata": {},
     "output_type": "display_data"
    },
    {
     "data": {
      "image/png": "[encoded data removed]",
      "text/plain": [
       "<Figure size 640x480 with 1 Axes>"
      ]
     },
     "metadata": {},
     "output_type": "display_data"
    }
   ],
   "source": [
    "# care to run all cells else F is not reset \n",
    "simulate(timesteps=30, showDensityPlot = True, showVelocityPlot = False)"
   ]
  }
 ],
 "metadata": {
  "kernelspec": {
   "display_name": "Python 3",
   "language": "python",
   "name": "python3"
  },
  "language_info": {
   "codemirror_mode": {
    "name": "ipython",
    "version": 3
   },
   "file_extension": ".py",
   "mimetype": "text/x-python",
   "name": "python",
   "nbconvert_exporter": "python",
   "pygments_lexer": "ipython3",
   "version": "3.11.3"
  },
  "orig_nbformat": 4
 },
 "nbformat": 4,
 "nbformat_minor": 2
}
